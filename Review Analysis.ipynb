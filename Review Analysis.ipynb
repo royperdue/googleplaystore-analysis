{
 "cells": [
  {
   "cell_type": "code",
   "execution_count": 1,
   "metadata": {},
   "outputs": [],
   "source": [
    "%matplotlib inline\n",
    "import pandas as pd\n",
    "import numpy as np\n",
    "import nltk\n",
    "\n",
    "\n",
    "from googletrans import Translator\n",
    "translator = Translator()\n",
    "\n",
    "import warnings\n",
    "warnings.filterwarnings('ignore')\n",
    "\n",
    "from textblob import TextBlob"
   ]
  },
  {
   "cell_type": "code",
   "execution_count": 2,
   "metadata": {},
   "outputs": [
    {
     "data": {
      "text/html": [
       "<div>\n",
       "<style scoped>\n",
       "    .dataframe tbody tr th:only-of-type {\n",
       "        vertical-align: middle;\n",
       "    }\n",
       "\n",
       "    .dataframe tbody tr th {\n",
       "        vertical-align: top;\n",
       "    }\n",
       "\n",
       "    .dataframe thead th {\n",
       "        text-align: right;\n",
       "    }\n",
       "</style>\n",
       "<table border=\"1\" class=\"dataframe\">\n",
       "  <thead>\n",
       "    <tr style=\"text-align: right;\">\n",
       "      <th></th>\n",
       "      <th>App</th>\n",
       "      <th>Review</th>\n",
       "    </tr>\n",
       "  </thead>\n",
       "  <tbody>\n",
       "    <tr>\n",
       "      <th>133820</th>\n",
       "      <td>aCalendar+ Calendar &amp; Tasks</td>\n",
       "      <td>I have used this for years because of the ease...</td>\n",
       "    </tr>\n",
       "    <tr>\n",
       "      <th>82529</th>\n",
       "      <td>Transformers Rescue Bots: Disaster Dash</td>\n",
       "      <td>I like all the controls and graphics but I wis...</td>\n",
       "    </tr>\n",
       "    <tr>\n",
       "      <th>65118</th>\n",
       "      <td>Helix Jump</td>\n",
       "      <td>Great game. Highly recommended. Had a similar ...</td>\n",
       "    </tr>\n",
       "    <tr>\n",
       "      <th>131510</th>\n",
       "      <td>IFTTT</td>\n",
       "      <td>Brilliant. But beware the rabbit hole you will...</td>\n",
       "    </tr>\n",
       "    <tr>\n",
       "      <th>25065</th>\n",
       "      <td>Lumosity: #1 Brain Games &amp; Cognitive Training App</td>\n",
       "      <td>I was starting to like the app. So I paid. Sil...</td>\n",
       "    </tr>\n",
       "    <tr>\n",
       "      <th>94441</th>\n",
       "      <td>Meetup</td>\n",
       "      <td>Great app for finding things to do in big citi...</td>\n",
       "    </tr>\n",
       "    <tr>\n",
       "      <th>49990</th>\n",
       "      <td>Weight Loss Tracker - RecStyle</td>\n",
       "      <td>I used this app to track my wieght and body fa...</td>\n",
       "    </tr>\n",
       "    <tr>\n",
       "      <th>46947</th>\n",
       "      <td>Relax with Andrew Johnson Lite</td>\n",
       "      <td>Excellent app Soothing voice, great way to rel...</td>\n",
       "    </tr>\n",
       "    <tr>\n",
       "      <th>114350</th>\n",
       "      <td>Cricbuzz - Live Cricket Scores &amp; News</td>\n",
       "      <td>Best app for cricket fans. The UI is simple ye...</td>\n",
       "    </tr>\n",
       "    <tr>\n",
       "      <th>117153</th>\n",
       "      <td>高德地图</td>\n",
       "      <td>Why does this app ask for phone permission?</td>\n",
       "    </tr>\n",
       "  </tbody>\n",
       "</table>\n",
       "</div>"
      ],
      "text/plain": [
       "                                                      App  \\\n",
       "133820                        aCalendar+ Calendar & Tasks   \n",
       "82529             Transformers Rescue Bots: Disaster Dash   \n",
       "65118                                          Helix Jump   \n",
       "131510                                              IFTTT   \n",
       "25065   Lumosity: #1 Brain Games & Cognitive Training App   \n",
       "94441                                              Meetup   \n",
       "49990                      Weight Loss Tracker - RecStyle   \n",
       "46947                      Relax with Andrew Johnson Lite   \n",
       "114350              Cricbuzz - Live Cricket Scores & News   \n",
       "117153                                               高德地图   \n",
       "\n",
       "                                                   Review  \n",
       "133820  I have used this for years because of the ease...  \n",
       "82529   I like all the controls and graphics but I wis...  \n",
       "65118   Great game. Highly recommended. Had a similar ...  \n",
       "131510  Brilliant. But beware the rabbit hole you will...  \n",
       "25065   I was starting to like the app. So I paid. Sil...  \n",
       "94441   Great app for finding things to do in big citi...  \n",
       "49990   I used this app to track my wieght and body fa...  \n",
       "46947   Excellent app Soothing voice, great way to rel...  \n",
       "114350  Best app for cricket fans. The UI is simple ye...  \n",
       "117153        Why does this app ask for phone permission?  "
      ]
     },
     "execution_count": 2,
     "metadata": {},
     "output_type": "execute_result"
    }
   ],
   "source": [
    "reviews_df = pd.read_csv('googleplaystore_reviews2.csv')\n",
    "reviews_df.sample(10)\n",
    "#print(len(reviews_df))"
   ]
  },
  {
   "cell_type": "code",
   "execution_count": 3,
   "metadata": {},
   "outputs": [
    {
     "name": "stdout",
     "output_type": "stream",
     "text": [
      "['i', 'me', 'my', 'myself', 'we', 'our', 'ours', 'ourselves', 'you', \"you're\", \"you've\", \"you'll\", \"you'd\", 'your', 'yours', 'yourself', 'yourselves', 'he', 'him', 'his', 'himself', 'she', \"she's\", 'her', 'hers', 'herself', 'it', \"it's\", 'its', 'itself', 'they', 'them', 'their', 'theirs', 'themselves', 'what', 'which', 'who', 'whom', 'this', 'that', \"that'll\", 'these', 'those', 'am', 'is', 'are', 'was', 'were', 'be', 'been', 'being', 'have', 'has', 'had', 'having', 'do', 'does', 'did', 'doing', 'a', 'an', 'the', 'and', 'but', 'if', 'or', 'because', 'as', 'until', 'while', 'of', 'at', 'by', 'for', 'with', 'about', 'against', 'between', 'into', 'through', 'during', 'before', 'after', 'above', 'below', 'to', 'from', 'up', 'down', 'in', 'out', 'on', 'off', 'over', 'under', 'again', 'further', 'then', 'once', 'here', 'there', 'when', 'where', 'why', 'how', 'all', 'any', 'both', 'each', 'few', 'more', 'most', 'other', 'some', 'such', 'no', 'nor', 'not', 'only', 'own', 'same', 'so', 'than', 'too', 'very', 's', 't', 'can', 'will', 'just', 'don', \"don't\", 'should', \"should've\", 'now', 'd', 'll', 'm', 'o', 're', 've', 'y', 'ain', 'aren', \"aren't\", 'couldn', \"couldn't\", 'didn', \"didn't\", 'doesn', \"doesn't\", 'hadn', \"hadn't\", 'hasn', \"hasn't\", 'haven', \"haven't\", 'isn', \"isn't\", 'ma', 'mightn', \"mightn't\", 'mustn', \"mustn't\", 'needn', \"needn't\", 'shan', \"shan't\", 'shouldn', \"shouldn't\", 'wasn', \"wasn't\", 'weren', \"weren't\", 'won', \"won't\", 'wouldn', \"wouldn't\", 'app', 'ap', 'application', 'browser', 'website', 'websites', 'chrome', 'click', 'web', 'ip', 'address', 'files', 'android', 'browse', 'service', 'use', 'one', 'download']\n"
     ]
    }
   ],
   "source": [
    "import re\n",
    "def clean(text):\n",
    "        '''\n",
    "        Utility function to clean text by removing links, special characters\n",
    "        using simple regex statements.\n",
    "        '''\n",
    "        return ' '.join(re.sub(\"(@[A-Za-z0-9]+)|([^0-9A-Za-z \\t]) \\\\\n",
    "                                    |(\\w+:\\/\\/\\S+)\", \" \", text).split())\n",
    "\n",
    "reviews_df['Review'] = reviews_df['Review'].apply(lambda x: str(x))\n",
    "reviews_df['Review'] = reviews_df['Review'].apply(lambda x: clean(x))\n",
    "\n",
    "from nltk.corpus import stopwords\n",
    "stop = stopwords.words('english')\n",
    "stop = stop + ['app', 'ap', 'application', 'browser', 'website', 'websites', 'chrome', 'click', 'web', 'ip', 'address',\n",
    "            'files', 'android', 'browse', 'service', 'use', 'one', 'download']\n",
    "print(stop)\n",
    "\n",
    "reviews_df['Review'] = reviews_df['Review'].apply(lambda x: \" \".join(x for x in x.split() if x not in stop))"
   ]
  },
  {
   "cell_type": "code",
   "execution_count": null,
   "metadata": {},
   "outputs": [
    {
     "name": "stdout",
     "output_type": "stream",
     "text": [
      "2711\n"
     ]
    }
   ],
   "source": [
    "grouped = reviews_df.groupby('App')\n",
    "reviews_df = reviews_df.groupby('App').filter(lambda x: len(x) >= 30)\n",
    "print(len(grouped.groups))\n",
    "\n",
    "sentiments_polarity = []\n",
    "sentiments_subjectivity = []  \n",
    "translated_reviews = []\n",
    "sentiments_category =[]\n",
    "for key,group in grouped:\n",
    "    \n",
    "    if len(group) < 30:\n",
    "        #ignore apps having less than 30 reviews\n",
    "        continue\n",
    "    else:\n",
    "        for review in group.Review:\n",
    "            try:\n",
    "                translated_review = translator.translate(review).text\n",
    "                sentiment = TextBlob(translated_review)\n",
    "                sentiment_polarity = sentiment.polarity\n",
    "                if sentiment_polarity == 0.0:\n",
    "                    sentiment_category = 'Neutral'\n",
    "                elif sentiment_polarity > 0.0:\n",
    "                    sentiment_category = 'Positive'\n",
    "                else:\n",
    "                    sentiment_category = 'Negative'\n",
    "                sentiment_subjectivity = sentiment.subjectivity\n",
    "            except:\n",
    "                translated_review = np.nan\n",
    "                sentiment_polarity = np.nan\n",
    "                sentiment_subjectivity = np.nan\n",
    "                sentiment_category = np.nan\n",
    "\n",
    "            #print(sentiment_polarity, sentiment_subjectivity)\n",
    "            translated_reviews.append(translated_review)\n",
    "            sentiments_polarity.append(sentiment_polarity)\n",
    "            sentiments_subjectivity.append(sentiment_subjectivity)\n",
    "            sentiments_category.append(sentiment_category)\n",
    "            #print(review + ' *********' + translated_review)\n",
    "\n",
    "        #print('=' * 50)\n",
    "\n",
    "\n",
    "reviews_df['Translated_Review'] = translated_reviews\n",
    "reviews_df['Sentiment'] = sentiments_category\n",
    "reviews_df['Sentiment_Polarity'] = pd.Series(sentiments_polarity).values\n",
    "reviews_df['Sentiment_Subjectivity'] = pd.Series(sentiments_subjectivity).values\n",
    "\n",
    "reviews_df['Translated_Review'] = reviews_df['Translated_Review'].apply(lambda x: \" \".join(x for x in str(x).split() if x not in stop))\n",
    "\n",
    "print(reviews_df.columns)"
   ]
  },
  {
   "cell_type": "code",
   "execution_count": null,
   "metadata": {},
   "outputs": [],
   "source": [
    "print(reviews_df.shape)\n",
    "print(reviews_df.isna().sum())\n",
    "reviews_df.dropna().size"
   ]
  },
  {
   "cell_type": "code",
   "execution_count": null,
   "metadata": {},
   "outputs": [],
   "source": [
    "reviews_df.to_csv('googleplaystore_sentiment_analysis.csv')"
   ]
  },
  {
   "cell_type": "code",
   "execution_count": null,
   "metadata": {},
   "outputs": [],
   "source": []
  },
  {
   "cell_type": "code",
   "execution_count": null,
   "metadata": {},
   "outputs": [],
   "source": []
  }
 ],
 "metadata": {
  "kernelspec": {
   "display_name": "Python 3",
   "language": "python",
   "name": "python3"
  },
  "language_info": {
   "codemirror_mode": {
    "name": "ipython",
    "version": 3
   },
   "file_extension": ".py",
   "mimetype": "text/x-python",
   "name": "python",
   "nbconvert_exporter": "python",
   "pygments_lexer": "ipython3",
   "version": "3.6.5"
  }
 },
 "nbformat": 4,
 "nbformat_minor": 2
}
